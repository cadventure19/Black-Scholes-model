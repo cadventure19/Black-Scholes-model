{
 "cells": [
  {
   "cell_type": "code",
   "execution_count": 59,
   "metadata": {},
   "outputs": [
    {
     "name": "stdout",
     "output_type": "stream",
     "text": [
      "57.174088154047865\n"
     ]
    },
    {
     "data": {
      "text/plain": [
       "<matplotlib.legend.Legend at 0x24c9f3eb3c8>"
      ]
     },
     "execution_count": 59,
     "metadata": {},
     "output_type": "execute_result"
    },
    {
     "data": {
      "image/png": "[encoded data removed]",
      "text/plain": [
       "<Figure size 432x288 with 1 Axes>"
      ]
     },
     "metadata": {
      "needs_background": "light"
     },
     "output_type": "display_data"
    }
   ],
   "source": [
    "import math\n",
    "import matplotlib.pyplot as plt\n",
    "import numpy as np\n",
    "import math\n",
    "import scipy.stats\n",
    "import pandas as pd\n",
    "def black_scholes_model( S0, r, K,T,sigma):\n",
    "\n",
    "\n",
    "    \"\"\"\n",
    "\n",
    "    S0 = initial stock price\n",
    "\n",
    "    r = risk free interest rate per annum\n",
    "    sigma=volatility\n",
    "    duration=time period for expiry (in days)\n",
    "    K = strike price\n",
    "    \"\"\"\n",
    "    d1=(math.log(S0/K)+(r+(.5*sigma*sigma))*T)/(sigma*math.sqrt(T))\n",
    "    d2=d1-sigma*math.sqrt(T)\n",
    "    N1=(scipy.stats.norm(0, 1).cdf(d1))\n",
    "    N2=(scipy.stats.norm(0, 1).cdf(d2))\n",
    "\n",
    "    return (S0*N1-K*math.exp(-r*T)*N2)\n",
    "\n",
    "\n",
    "print(black_scholes_model( 420, .05848, 370,.333,.0994))\n",
    "def binomial_call(S, K, T, r, vol, N):\n",
    "    \"\"\"\n",
    "    Implements the binomial option pricing model to price a European call option on a stock\n",
    "    S - stock price today\n",
    "    K - strike price of the option\n",
    "    T - time until expiry of the option\n",
    "    r - risk-free interest rate\n",
    "    vol - the volatility of the stock\n",
    "    N - number of steps in the model\n",
    "    \"\"\"\n",
    "    dt = T/N\n",
    "    u =  math.exp(vol * math.sqrt(dt))\n",
    "    d = 1/u\n",
    "    p = (math.exp(r * dt) - d)/(u - d)\n",
    "    C = {}\n",
    "    for m in range(0, N+1):\n",
    "            C[(N, m)] = max(S * (u ** (2*m - N)) - K, 0)\n",
    "    for k in range(N-1, -1, -1):\n",
    "        for m in range(0,k+1):\n",
    "            C[(k, m)] = math.exp(-r * dt) * (p * C[(k+1, m+1)] + (1-p) * C[(k+1, m)])\n",
    "    return C[(0,0)]\n",
    "\n",
    "\n",
    "steps = range(2, 100, 1)\n",
    "prices = [binomial_call(420, 370, .333, .05848, .0994,step ) for step in steps]\n",
    "\n",
    "plt.plot(steps, prices, label=\"Binomial Tree Price\", lw=2, alpha=0.6)\n",
    "plt.plot([0,100],[black_scholes_model( 420, .05848, 370,.333,.0994), black_scholes_model( 420, .05848, 370,.333,.0994)], \"r--\", label=\"Black_Scholes_Price\", lw=2, alpha=0.6)\n",
    "plt.xlabel(\"Steps\")\n",
    "plt.ylabel(\"Price\")\n",
    "plt.title(\"Binomial Tree Price For Varying Steps\")\n",
    "plt.legend()\n",
    "\n",
    "\n",
    "\n",
    "\n"
   ]
  },
  {
   "cell_type": "code",
   "execution_count": 60,
   "metadata": {},
   "outputs": [
    {
     "name": "stdout",
     "output_type": "stream",
     "text": [
      "0.9612221634964234\n"
     ]
    }
   ],
   "source": [
    "# print(black_scholes_model( 420, .05848, 370,.333,.0994))\n",
    "# def binomial_call(S, K, T, r, vol, N):\n",
    "import scipy.stats as si\n",
    "def newton_vol_call(S, K, T, C, r, sigma):\n",
    "    \n",
    "    #S: spot price\n",
    "    #K: strike price\n",
    "    #T: time to maturity\n",
    "    #C: Call value\n",
    "    #r: interest rate\n",
    "    #sigma: volatility of underlying asset\n",
    "    \n",
    "    d1 = (np.log(S / K) + (r - 0.5 * sigma ** 2) * T) / (sigma * np.sqrt(T))\n",
    "    d2 = (np.log(S / K) + (r - 0.5 * sigma ** 2) * T) / (sigma * np.sqrt(T))\n",
    "    \n",
    "    fx = S * si.norm.cdf(d1, 0.0, 1.0) - K * np.exp(-r * T) * si.norm.cdf(d2, 0.0, 1.0) - C\n",
    "    \n",
    "    vega = (1 / np.sqrt(2 * np.pi)) * S * np.sqrt(T) * np.exp(-(si.norm.cdf(d1, 0.0, 1.0) ** 2) * 0.5)\n",
    "    \n",
    "    tolerance = 0.000001\n",
    "    x0 = sigma\n",
    "    xnew  = x0\n",
    "    xold = x0 - 1\n",
    "        \n",
    "    while abs(xnew - xold) > tolerance:\n",
    "    \n",
    "        xold = xnew\n",
    "        xnew = (xnew - fx - C) / vega\n",
    "        \n",
    "        return abs(xnew)\n",
    "print(newton_vol_call(420,370,.333,57.175,0.05848,.0994))"
   ]
  },
  {
   "cell_type": "code",
   "execution_count": null,
   "metadata": {},
   "outputs": [],
   "source": []
  }
 ],
 "metadata": {
  "kernelspec": {
   "display_name": "Python 3",
   "language": "python",
   "name": "python3"
  },
  "language_info": {
   "codemirror_mode": {
    "name": "ipython",
    "version": 3
   },
   "file_extension": ".py",
   "mimetype": "text/x-python",
   "name": "python",
   "nbconvert_exporter": "python",
   "pygments_lexer": "ipython3",
   "version": "3.7.4"
  }
 },
 "nbformat": 4,
 "nbformat_minor": 2
}
